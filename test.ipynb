{
 "cells": [
  {
   "cell_type": "code",
   "execution_count": 9,
   "metadata": {},
   "outputs": [
    {
     "name": "stdout",
     "output_type": "stream",
     "text": [
      "Table dropped successfully!\n",
      "Table created successfully!\n"
     ]
    }
   ],
   "source": [
    "import psycopg2\n",
    "from sql_queries import create_table_queries, drop_table_queries\n",
    "\n",
    "def create_sparkify_db():\n",
    "    \"\"\"Creates sparkify_db database, connects and places cursor on sparkify_db\n",
    "    database.\n",
    "    \"\"\"\n",
    "    # connect to default database\n",
    "    conn = psycopg2.connect(\"user=postgres \\\n",
    "                            host=127.0.0.1 \\\n",
    "                            port=5432 \\\n",
    "                            dbname=postgres_db \\\n",
    "                            password=passryme1\")\n",
    "    cur = conn.cursor()\n",
    "    conn.set_session(autocommit=True)\n",
    "\n",
    "    # create sparkify_db database\n",
    "    cur.execute(\"\"\"DROP DATABASE IF EXISTS sparkify_db\"\"\")\n",
    "    cur.execute(\"\"\"CREATE DATABASE sparkify_db\"\"\")\n",
    "\n",
    "    # close intial connection\n",
    "    conn.close()\n",
    "    cur.close()\n",
    "\n",
    "    # connect to sparkify_db\n",
    "    conn = psycopg2.connect(\"user=postgres \\\n",
    "                            host=127.0.0.1 \\\n",
    "                            port=5432 \\\n",
    "                            dbname=sparkify_db \\\n",
    "                            password=passryme1\")\n",
    "    cur = conn.cursor()\n",
    "\n",
    "    return conn, cur\n",
    "\n",
    "\n",
    "def create_table(conn, cur):\n",
    "    \"\"\"Creates tables in sparkify_db database by running all create table queries\n",
    "    defined in sql_queries.py\n",
    "    :param cur: cursor to the database\n",
    "    :param conn: database connection reference\n",
    "    \"\"\"\n",
    "    for query in create_table_queries:\n",
    "        cur.execute(query)\n",
    "        conn.commit()\n",
    "\n",
    "\n",
    "def drop_table(conn, cur):\n",
    "    \"\"\"Drops tables in sparkify_db database by running all drop table queries\n",
    "    defined in sql_queries.py\n",
    "    :param cur: cursor to the database\n",
    "    :param conn: database connection reference\n",
    "    \"\"\"\n",
    "    for query in drop_table_queries:\n",
    "        cur.execute(query)\n",
    "        conn.commit()\n",
    "\n",
    "\n",
    "def main():\n",
    "    \"\"\"\n",
    "    Driver main function.\n",
    "    \"\"\"\n",
    "    conn, cur = create_sparkify_db()\n",
    "\n",
    "    drop_table(conn, cur)\n",
    "    print(\"Table dropped successfully!\")\n",
    "\n",
    "    create_table(conn, cur)\n",
    "    print(\"Table created successfully!\")\n",
    "\n",
    "    # close connection and cursor\n",
    "    conn.close()\n",
    "    cur.close()\n",
    "\n",
    "\n",
    "if __name__ == \"__main__\":\n",
    "    main()\n"
   ]
  },
  {
   "cell_type": "code",
   "execution_count": 7,
   "metadata": {},
   "outputs": [
    {
     "ename": "NameError",
     "evalue": "name 'conn' is not defined",
     "output_type": "error",
     "traceback": [
      "\u001b[1;31m---------------------------------------------------------------------------\u001b[0m",
      "\u001b[1;31mNameError\u001b[0m                                 Traceback (most recent call last)",
      "\u001b[1;32m<ipython-input-7-82f6b0b7ea43>\u001b[0m in \u001b[0;36m<module>\u001b[1;34m\u001b[0m\n\u001b[1;32m----> 1\u001b[1;33m \u001b[0mconn\u001b[0m\u001b[1;33m.\u001b[0m\u001b[0mclose\u001b[0m\u001b[1;33m(\u001b[0m\u001b[1;33m)\u001b[0m\u001b[1;33m\u001b[0m\u001b[1;33m\u001b[0m\u001b[0m\n\u001b[0m\u001b[0;32m      2\u001b[0m \u001b[0mcur\u001b[0m\u001b[1;33m.\u001b[0m\u001b[0mclose\u001b[0m\u001b[1;33m(\u001b[0m\u001b[1;33m)\u001b[0m\u001b[1;33m\u001b[0m\u001b[1;33m\u001b[0m\u001b[0m\n",
      "\u001b[1;31mNameError\u001b[0m: name 'conn' is not defined"
     ]
    }
   ],
   "source": [
    "conn.close()\n",
    "cur.close()"
   ]
  },
  {
   "cell_type": "code",
   "execution_count": 6,
   "metadata": {},
   "outputs": [
    {
     "ename": "SyntaxError",
     "evalue": "invalid syntax (<ipython-input-6-83c59ba94e7c>, line 1)",
     "output_type": "error",
     "traceback": [
      "\u001b[1;36m  File \u001b[1;32m\"<ipython-input-6-83c59ba94e7c>\"\u001b[1;36m, line \u001b[1;32m1\u001b[0m\n\u001b[1;33m    service postgresql start\u001b[0m\n\u001b[1;37m            ^\u001b[0m\n\u001b[1;31mSyntaxError\u001b[0m\u001b[1;31m:\u001b[0m invalid syntax\n"
     ]
    }
   ],
   "source": [
    "service postgresql start"
   ]
  },
  {
   "cell_type": "code",
   "execution_count": null,
   "metadata": {},
   "outputs": [],
   "source": []
  }
 ],
 "metadata": {
  "kernelspec": {
   "display_name": "Python 3",
   "language": "python",
   "name": "python3"
  },
  "language_info": {
   "codemirror_mode": {
    "name": "ipython",
    "version": 3
   },
   "file_extension": ".py",
   "mimetype": "text/x-python",
   "name": "python",
   "nbconvert_exporter": "python",
   "pygments_lexer": "ipython3",
   "version": "3.8.3"
  }
 },
 "nbformat": 4,
 "nbformat_minor": 4
}
