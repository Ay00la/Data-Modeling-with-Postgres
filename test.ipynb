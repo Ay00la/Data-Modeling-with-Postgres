{
 "cells": [
  {
   "cell_type": "code",
   "execution_count": 16,
   "metadata": {},
   "outputs": [],
   "source": [
    "songplays_table = \"\"\"CREATE TABLE IF NOT EXISTS songplays(\n",
    "    songplay_id INT,\n",
    "    start_time INT,\n",
    "    user_id INT,\n",
    "    level INT,\n",
    "    song_id VARCHAR,\n",
    "    artist_id VARCHAR,\n",
    "    session_id INT,\n",
    "    location VARCHAR,\n",
    "    user_agent INT\n",
    ")\"\"\"\n",
    "\n",
    "users_table = \"\"\"CREATE TABLE IF NOT EXISTS users(\n",
    "    user_id INT UNIQUE,\n",
    "    first_name VARCHAR,\n",
    "    last_name VARCHAR,\n",
    "    gender VARCHAR,\n",
    "    level VARCHAR\n",
    ")\"\"\"\n",
    "\n",
    "songs_table = \"\"\"CREATE TABLE IF NOT EXISTS songs(\n",
    "    song_id VARCHAR,\n",
    "    title VARCHAR,\n",
    "    artist_id VARCHAR,\n",
    "    year INT,\n",
    "    duration FLOAT\n",
    ")\"\"\"\n",
    "\n",
    "artists_table = \"\"\"CREATE TABLE IF NOT EXISTS artists(\n",
    "    artist_id VARCHAR,\n",
    "    artist_name VARCHAR,\n",
    "    artist_location VARCHAR,\n",
    "    artist_latitude FLOAT,\n",
    "    artist_longitude FLOAT\n",
    ")\"\"\"\n",
    "\n",
    "time_table = \"\"\"CREATE TABLE IF NOT EXISTS time(\n",
    "    start_time INT,\n",
    "    hour INT,\n",
    "    day INT,\n",
    "    week INT,\n",
    "    month INT,\n",
    "    year INT,\n",
    "    weekday VARCHAR\n",
    ")\"\"\"\n",
    "\n",
    "# INSERT RECORDS\n",
    "\n",
    "songplay_table_insert = \"\"\"INSERT INTO songplays (songplay_id, start_time, user_id, level, song_id, artist_id, session_id, location, user_agent) VALUES (%s, %s, %s, %s, %s, %s, %s, %s, %s);\"\"\"\n",
    "\n",
    "user_table_insert = \"\"\"INSERT INTO users (user_id, first_name, last_name, gender, level) VALUES (%s, %s, %s, %s, %s);\"\"\"\n",
    "\n",
    "song_table_insert = \"\"\"INSERT INTO songs (song_id, title, artist_id, year, duration) VALUES (%s, %s, %s, %s, %s);\"\"\"\n",
    "\n",
    "artist_table_insert = \"\"\"INSERT INTO artists (artist_id, artist_name, artist_location, artist_latitude, artist_longitude) VALUES (%s, %s, %s, %s, %s);\"\"\"\n",
    "\n",
    "time_table_insert = \"\"\"INSERT INTO time (start_time, hour, day, week, month, year, weekday) VALUES (%s, %s, %s, %s, %s, %s, %s);\"\"\"\n",
    "\n",
    "\n",
    "songplays_table_drop = \"\"\"DROP TABLE IF EXISTS songplays\"\"\"\n",
    "\n",
    "users_table_drop = \"\"\"DROP TABLE IF EXISTS users\"\"\"\n",
    "\n",
    "songs_table_drop = \"\"\"DROP TABLE IF EXISTS songs\"\"\"\n",
    "\n",
    "artists_table_drop = \"\"\"DROP TABLE IF EXISTS artists\"\"\"\n",
    "\n",
    "time_table_drop = \"\"\"DROP TABLE IF EXISTS time\"\"\"\n",
    "\n",
    "create_table_queries = [songplays_table, users_table, songs_table, artists_table, time_table]\n",
    "\n",
    "drop_table_queries = [songplays_table_drop, users_table_drop, songs_table_drop, artists_table_drop, time_table_drop]\n"
   ]
  },
  {
   "cell_type": "code",
   "execution_count": 3,
   "metadata": {},
   "outputs": [
    {
     "name": "stdout",
     "output_type": "stream",
     "text": [
      "Table dropped successfully!\n",
      "Table created successfully!\n"
     ]
    }
   ],
   "source": [
    "import psycopg2\n",
    "from sql_queries import create_table_queries, drop_table_queries\n",
    "\n",
    "def create_sparkify_db():\n",
    "    \"\"\"Creates sparkify_db database, connects and places cursor on sparkify_db\n",
    "    database.\n",
    "    \"\"\"\n",
    "    # connect to default database\n",
    "    conn = psycopg2.connect(\"user=postgres \\\n",
    "                            host=127.0.0.1 \\\n",
    "                            port=5432 \\\n",
    "                            dbname=postgres_db \\\n",
    "                            password=passryme1\")\n",
    "    cur = conn.cursor()\n",
    "    conn.set_session(autocommit=True)\n",
    "\n",
    "    # create sparkify_db database\n",
    "    cur.execute(\"\"\"DROP DATABASE IF EXISTS sparkify_db\"\"\")\n",
    "    cur.execute(\"\"\"CREATE DATABASE sparkify_db\"\"\")\n",
    "\n",
    "    # close intial connection\n",
    "    conn.close()\n",
    "    cur.close()\n",
    "\n",
    "    # connect to sparkify_db\n",
    "    conn = psycopg2.connect(\"user=postgres \\\n",
    "                            host=127.0.0.1 \\\n",
    "                            port=5432 \\\n",
    "                            dbname=sparkify_db \\\n",
    "                            password=passryme1\")\n",
    "    cur = conn.cursor()\n",
    "\n",
    "    return conn, cur\n",
    "\n",
    "\n",
    "def create_table(conn, cur):\n",
    "    \"\"\"Creates tables in sparkify_db database by running all create table queries\n",
    "    defined in sql_queries.py\n",
    "    :param cur: cursor to the database\n",
    "    :param conn: database connection reference\n",
    "    \"\"\"\n",
    "    for query in create_table_queries:\n",
    "        cur.execute(query)\n",
    "        conn.commit()\n",
    "\n",
    "\n",
    "def drop_table(conn, cur):\n",
    "    \"\"\"Drops tables in sparkify_db database by running all drop table queries\n",
    "    defined in sql_queries.py\n",
    "    :param cur: cursor to the database\n",
    "    :param conn: database connection reference\n",
    "    \"\"\"\n",
    "    for query in drop_table_queries:\n",
    "        cur.execute(query)\n",
    "        conn.commit()\n",
    "\n",
    "\n",
    "def main():\n",
    "    \"\"\"\n",
    "    Driver main function.\n",
    "    \"\"\"\n",
    "    conn, cur = create_sparkify_db()\n",
    "\n",
    "    drop_table(conn, cur)\n",
    "    print(\"Table dropped successfully!\")\n",
    "\n",
    "    create_table(conn, cur)\n",
    "    print(\"Table created successfully!\")\n",
    "\n",
    "    # close connection and cursor\n",
    "    conn.close()\n",
    "    cur.close()\n",
    "\n",
    "\n",
    "if __name__ == \"__main__\":\n",
    "    main()\n"
   ]
  },
  {
   "cell_type": "code",
   "execution_count": 4,
   "metadata": {},
   "outputs": [
    {
     "ename": "NameError",
     "evalue": "name 'conn' is not defined",
     "output_type": "error",
     "traceback": [
      "\u001b[1;31m---------------------------------------------------------------------------\u001b[0m",
      "\u001b[1;31mNameError\u001b[0m                                 Traceback (most recent call last)",
      "\u001b[1;32m<ipython-input-4-82f6b0b7ea43>\u001b[0m in \u001b[0;36m<module>\u001b[1;34m\u001b[0m\n\u001b[1;32m----> 1\u001b[1;33m \u001b[0mconn\u001b[0m\u001b[1;33m.\u001b[0m\u001b[0mclose\u001b[0m\u001b[1;33m(\u001b[0m\u001b[1;33m)\u001b[0m\u001b[1;33m\u001b[0m\u001b[1;33m\u001b[0m\u001b[0m\n\u001b[0m\u001b[0;32m      2\u001b[0m \u001b[0mcur\u001b[0m\u001b[1;33m.\u001b[0m\u001b[0mclose\u001b[0m\u001b[1;33m(\u001b[0m\u001b[1;33m)\u001b[0m\u001b[1;33m\u001b[0m\u001b[1;33m\u001b[0m\u001b[0m\n",
      "\u001b[1;31mNameError\u001b[0m: name 'conn' is not defined"
     ]
    }
   ],
   "source": [
    "conn.close()\n",
    "cur.close()"
   ]
  },
  {
   "cell_type": "code",
   "execution_count": 6,
   "metadata": {},
   "outputs": [
    {
     "ename": "SyntaxError",
     "evalue": "invalid syntax (<ipython-input-6-83c59ba94e7c>, line 1)",
     "output_type": "error",
     "traceback": [
      "\u001b[1;36m  File \u001b[1;32m\"<ipython-input-6-83c59ba94e7c>\"\u001b[1;36m, line \u001b[1;32m1\u001b[0m\n\u001b[1;33m    service postgresql start\u001b[0m\n\u001b[1;37m            ^\u001b[0m\n\u001b[1;31mSyntaxError\u001b[0m\u001b[1;31m:\u001b[0m invalid syntax\n"
     ]
    }
   ],
   "source": [
    "service postgresql start"
   ]
  },
  {
   "cell_type": "code",
   "execution_count": null,
   "metadata": {},
   "outputs": [],
   "source": []
  }
 ],
 "metadata": {
  "kernelspec": {
   "display_name": "Python 3",
   "language": "python",
   "name": "python3"
  },
  "language_info": {
   "codemirror_mode": {
    "name": "ipython",
    "version": 3
   },
   "file_extension": ".py",
   "mimetype": "text/x-python",
   "name": "python",
   "nbconvert_exporter": "python",
   "pygments_lexer": "ipython3",
   "version": "3.8.3"
  }
 },
 "nbformat": 4,
 "nbformat_minor": 4
}
